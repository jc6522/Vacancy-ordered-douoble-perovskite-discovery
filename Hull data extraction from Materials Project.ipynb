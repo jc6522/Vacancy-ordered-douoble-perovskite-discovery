{
 "cells": [
  {
   "cell_type": "code",
   "execution_count": null,
   "id": "d94d7d86-28e8-4212-90ae-265de9da4baf",
   "metadata": {
    "tags": []
   },
   "outputs": [],
   "source": [
    "from pymatgen.entries.compatibility import MaterialsProject2020Compatibility\n",
    "\n",
    "mpc = MaterialsProject2020Compatibility(check_potcar=False)"
   ]
  },
  {
   "cell_type": "code",
   "execution_count": null,
   "id": "ee463b6b-81cd-417c-a6f9-3eb81d8dd791",
   "metadata": {
    "tags": []
   },
   "outputs": [],
   "source": [
    "from mp_api.client import MPRester\n",
    "from emmet.core.thermo import ThermoType\n",
    "\n",
    "mpr = MPRester(\"PGh5dJz2L9dILgfgixXM8TH0cK14ri5m\")  # NEED TO SET API KEY\n",
    "\n",
    "\n"
   ]
  },
  {
   "cell_type": "code",
   "execution_count": null,
   "id": "d011009e-636f-46b0-b954-53207b97c947",
   "metadata": {
    "tags": []
   },
   "outputs": [],
   "source": [
    "#mpr.materials.summary.available_fields"
   ]
  },
  {
   "cell_type": "code",
   "execution_count": null,
   "id": "d0b0eb02-a275-4174-be2b-5f04c8552648",
   "metadata": {},
   "outputs": [],
   "source": [
    "from pymatgen.core.periodic_table import Element\n",
    "\n",
    "excluded_elements = [    \"Ac\",\n",
    "    \"Th\",\n",
    "    \"Pa\",\n",
    "    \"U\",\n",
    "    \"Np\",\n",
    "    \"Pu\",\n",
    "    \"Am\",\n",
    "    \"Cm\",\n",
    "    \"Bk\",\n",
    "    \"Cf\",\n",
    "    \"Es\",\n",
    "    \"Fm\"]\n",
    "included_elements = [e.name for e in Element if e.name not in excluded_elements]\n"
   ]
  },
  {
   "cell_type": "code",
   "execution_count": null,
   "id": "5e6c809a-e8ba-4992-a29e-6931ac112066",
   "metadata": {},
   "outputs": [],
   "source": [
    "len(excluded_elements)"
   ]
  },
  {
   "cell_type": "code",
   "execution_count": null,
   "id": "d55c3b38-4ba6-44dc-b825-2f3a9f105840",
   "metadata": {},
   "outputs": [],
   "source": [
    "docs = []\n",
    "for i in range(int(len(excluded_elements)/10+1)):\n",
    "    docs_temp = mpr.materials.summary.search(\n",
    "        exclude_elements=excluded_elements[i*10:(i+1)*10],   # REMOVE THIS LIMIT\n",
    "        num_elements=(1, 3),\n",
    "        energy_above_hull=(0.0, 0.01),\n",
    "        fields=[\"material_id\"]\n",
    "    )    \n",
    "    docs.append(docs_temp)\n",
    "\n",
    "print(len(docs))\n",
    "        "
   ]
  },
  {
   "cell_type": "code",
   "execution_count": null,
   "id": "078ae97b-ba77-4e1c-b14f-9a9ac4a2b331",
   "metadata": {},
   "outputs": [],
   "source": [
    "docs = []\n",
    "docs_temp = mpr.materials.summary.search(\n",
    "    exclude_elements=excluded_elements[:],   # REMOVE THIS LIMIT\n",
    "    num_elements=(0, 3),\n",
    "    energy_above_hull=(0.0, 0.01),\n",
    "    fields=[\"material_id\",\"chemsys\"]\n",
    ")    \n",
    "\n",
    "\n",
    "print(len(docs))\n",
    "        "
   ]
  },
  {
   "cell_type": "code",
   "execution_count": null,
   "id": "421ca259-de66-46a8-b2ec-52245ac0dd60",
   "metadata": {},
   "outputs": [],
   "source": [
    "def flatten(lst):\n",
    "    result = []\n",
    "    for item in lst:\n",
    "        if isinstance(item, (list, tuple)):  # If item is a list or tuple, recurse\n",
    "            result.extend(flatten(item))\n",
    "        else:\n",
    "            result.append(item)\n",
    "    return result"
   ]
  },
  {
   "cell_type": "code",
   "execution_count": null,
   "id": "18520c6e-ad07-426f-9138-885c4905ee66",
   "metadata": {},
   "outputs": [],
   "source": [
    "from emmet.core.thermo import ThermoType\n",
    "thermo_docs = []\n",
    "#material_ids = [doc.material_id for doc in flat_docs]\n",
    "docs_temp_2_1 = mpr.materials.thermo.search(\n",
    "    material_ids=\"mp-146\",    # LOOP OVER IN BATCHES\n",
    "    thermo_types=[ThermoType.GGA_GGA_U],\n",
    "    fields=[\"composition_reduced\", \"energy_per_atom\"]\n",
    ")\n",
    "#thermo_docs.append(docs_temp_2)\n",
    "\n",
    "print(docs_temp_2_1)\n",
    "    "
   ]
  },
  {
   "cell_type": "code",
   "execution_count": null,
   "id": "0e85d800-6c8a-4e62-9444-a0baa3150ab6",
   "metadata": {
    "tags": []
   },
   "outputs": [],
   "source": [
    "from emmet.core.thermo import ThermoType\n",
    "thermo_docs = []\n",
    "for i in range(int(len(docs_temp)/10000+1)):\n",
    "    material_ids = [doc.material_id for doc in flat_docs]\n",
    "    docs_temp_2 = mpr.materials.thermo.search(\n",
    "        material_ids=material_ids[i*10000:(i+1)*10000],    # LOOP OVER IN BATCHES\n",
    "        thermo_types=[ThermoType.GGA_GGA_U],\n",
    "        fields=[\"composition_reduced\", \"energy_per_atom\"]\n",
    "    )\n",
    "    thermo_docs.append(docs_temp_2)\n",
    "\n",
    "print(len(thermo_docs))\n",
    "    "
   ]
  },
  {
   "cell_type": "code",
   "execution_count": null,
   "id": "d9ea81d7-28af-4c1d-b8c6-4d698df84ba8",
   "metadata": {},
   "outputs": [],
   "source": [
    "flat_thermo_docs = flatten(thermo_docs)"
   ]
  },
  {
   "cell_type": "code",
   "execution_count": null,
   "id": "fc3d6d9e-241e-4bfe-8a6c-48c1f43653d0",
   "metadata": {},
   "outputs": [],
   "source": [
    "len(flat_thermo_docs)"
   ]
  },
  {
   "cell_type": "code",
   "execution_count": null,
   "id": "03954246-c82d-49f3-b6f3-1988cbf3d4bd",
   "metadata": {},
   "outputs": [],
   "source": [
    "flat_thermo_docs[0]"
   ]
  },
  {
   "cell_type": "code",
   "execution_count": null,
   "id": "dd67b2a2-0623-4b77-96f9-273f704e7d3a",
   "metadata": {},
   "outputs": [],
   "source": [
    "22785/23457"
   ]
  },
  {
   "cell_type": "code",
   "execution_count": null,
   "id": "d3ef6bac-f188-4fab-8643-c119b3ea50be",
   "metadata": {},
   "outputs": [],
   "source": [
    "flat_thermo_docs[0].composition_reduced.num_atoms"
   ]
  },
  {
   "cell_type": "code",
   "execution_count": null,
   "id": "5a52acde-fded-4cd6-95df-7fd0f57410b0",
   "metadata": {},
   "outputs": [],
   "source": [
    "import csv\n",
    "file_path = 'thermo docs.csv'\n",
    "\n",
    "# Writing to CSV\n",
    "with open(file_path, mode='w', newline='') as file:\n",
    "    writer = csv.writer(file)\n",
    "    \n",
    "    # Write each row (tuple in this case) to the CSV\n",
    "    for row in flat_thermo_docs:\n",
    "        writer.writerow((row.composition_reduced,row.energy_per_atom))\n",
    "\n",
    "print(f\"Data saved to {file_path}\")"
   ]
  },
  {
   "cell_type": "code",
   "execution_count": null,
   "id": "1459a992-0f36-447f-9f0c-ddc7ea7bdca4",
   "metadata": {},
   "outputs": [],
   "source": [
    "from pymatgen.analysis.phase_diagram import PDEntry, PhaseDiagram\n",
    "from pymatgen.entries.computed_entries import ComputedEntry\n",
    "\n",
    "pd = mpr.materials.thermo.get_phase_diagram_from_chemsys(\n",
    "    chemsys=\"K-Ti-Br\", \n",
    "    thermo_type=ThermoType.GGA_GGA_U,\n",
    ")\n",
    "\n",
    "\n",
    "chemsys = {\"K\", \"Ti\", \"Br\"}\n",
    "\n",
    "entries = []\n",
    "for doc in thermo_docs:\n",
    "    elements = {e.name for e in doc.composition_reduced.elements}\n",
    "    if elements.issubset(chemsys):\n",
    "        entry = PDEntry(\n",
    "            doc.composition_reduced,\n",
    "            doc.energy_per_atom * doc.composition_reduced.num_atoms\n",
    "        )\n",
    "        entries.append(entry)\n",
    "entries\n"
   ]
  },
  {
   "cell_type": "code",
   "execution_count": null,
   "id": "97a7cf78-88db-4ccf-8145-c6b918d931e3",
   "metadata": {},
   "outputs": [],
   "source": [
    "\n",
    "pd = PhaseDiagram(entries)\n",
    "\n",
    "entry = ComputedEntry(\n",
    "    \"Ag2BBr6\",\n",
    "    -52.50263595581055,\n",
    "    parameters={\"run_type\": \"GGA+U\"}\n",
    ")\n",
    "\n",
    "corrected_entry = mpc.process_entry(entry)\n",
    "print(corrected_entry)\n",
    "pd.get_e_above_hull(corrected_entry)\n"
   ]
  },
  {
   "cell_type": "code",
   "execution_count": null,
   "id": "ddce2439-6d78-4787-a00b-0bd025bfdbe3",
   "metadata": {
    "tags": []
   },
   "outputs": [],
   "source": [
    "# DEMO\n",
    "\n",
    "from pymatgen.analysis.phase_diagram import PDEntry, PhaseDiagram\n",
    "from pymatgen.entries.computed_entries import ComputedEntry\n",
    "\n",
    "\n",
    "chemsys = {\"Ag\", \"B\", \"Br\"}\n",
    "\n",
    "entries = []\n",
    "for doc in flat_thermo_docs:\n",
    "    elements = {e.name for e in doc.composition_reduced.elements}\n",
    "    if elements.issubset(chemsys):\n",
    "        entry = PDEntry(\n",
    "            doc.composition_reduced,\n",
    "            doc.energy_per_atom * doc.composition_reduced.num_atoms\n",
    "        )\n",
    "        entries.append(entry)\n",
    "        \n",
    "pd = PhaseDiagram(entries)\n",
    "\n",
    "entry = ComputedEntry(\n",
    "    \"Ag2BBr6\",\n",
    "    -21.8533973,\n",
    "    parameters={\"run_type\": \"GGA+U\"}\n",
    ")\n",
    "\n",
    "corrected_entry = mpc.process_entry(entry)\n",
    "print(corrected_entry)\n",
    "pd.get_e_above_hull(corrected_entry)"
   ]
  }
 ],
 "metadata": {
  "kernelspec": {
   "display_name": "Python 3 (ipykernel)",
   "language": "python",
   "name": "python3"
  },
  "language_info": {
   "codemirror_mode": {
    "name": "ipython",
    "version": 3
   },
   "file_extension": ".py",
   "mimetype": "text/x-python",
   "name": "python",
   "nbconvert_exporter": "python",
   "pygments_lexer": "ipython3",
   "version": "3.11.11"
  }
 },
 "nbformat": 4,
 "nbformat_minor": 5
}
