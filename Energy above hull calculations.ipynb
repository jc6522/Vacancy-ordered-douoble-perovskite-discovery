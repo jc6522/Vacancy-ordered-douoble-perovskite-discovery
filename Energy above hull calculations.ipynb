{
 "cells": [
  {
   "cell_type": "code",
   "execution_count": null,
   "id": "e1c86961-f1bc-484d-b295-d4f31dbf8b9b",
   "metadata": {},
   "outputs": [],
   "source": [
    "# IMPORTS ALL THE REQUIRED MODULES\n",
    "\n",
    "from pymatgen.entries.compatibility import MaterialsProject2020Compatibility\n",
    "\n",
    "mpc = MaterialsProject2020Compatibility(check_potcar=False)\n",
    "\n",
    "from mp_api.client import MPRester\n",
    "from emmet.core.thermo import ThermoType\n",
    "import pymatgen\n",
    "import csv\n",
    "\n",
    "mpr = MPRester(\"PGh5dJz2L9dILgfgixXM8TH0cK14ri5m\")  # NEED TO SET API KEY\n",
    "\n",
    "from pymatgen.analysis.phase_diagram import PDEntry, PhaseDiagram\n",
    "from pymatgen.entries.computed_entries import ComputedEntry\n",
    "\n",
    "from ase import Atoms\n",
    "from ase.io import read\n",
    "\n",
    "import numpy as np\n",
    "import time"
   ]
  },
  {
   "cell_type": "code",
   "execution_count": null,
   "id": "19c92a0f-16e0-4eea-9518-387bbfbebc9a",
   "metadata": {},
   "outputs": [],
   "source": [
    "# IMPORTS THE REQUIRED THERMO DOCS FOR CONSTRUCTING THE HULL\n",
    "\n",
    "thermo_docs = []\n",
    "with open('thermo docs.csv', mode='r', newline='') as file:    # CHANGE IMPORT FILE HERE\n",
    "    reader = csv.reader(file)\n",
    "    for row in reader: \n",
    "        thermo_docs.append(row)  # Convert each value\n"
   ]
  },
  {
   "cell_type": "code",
   "execution_count": null,
   "id": "ad125693-7e46-46be-8b06-c3744acfdeb0",
   "metadata": {},
   "outputs": [],
   "source": [
    "# CHANGE THE DATA TYPE OF THE IMPORTED DATA\n",
    "\n",
    "for i in thermo_docs:\n",
    "    i[0] = pymatgen.core.composition.Composition(i[0])\n",
    "    i[1] = float(i[1])\n"
   ]
  },
  {
   "cell_type": "code",
   "execution_count": null,
   "id": "344c5a95-8d23-452d-8c0c-809a455bdf07",
   "metadata": {},
   "outputs": [],
   "source": [
    "# CHECK THAT THE DATA TYPE HAS BEEN MODIFIED SUCCESSFULLY\n",
    "\n",
    "print(type(thermo_docs[2][1]))\n",
    "print(type(thermo_docs[2][0]))\n",
    "print(len(thermo_docs))"
   ]
  },
  {
   "cell_type": "code",
   "execution_count": null,
   "id": "057bba6e-09c5-4552-8a6c-c669d99e3fd4",
   "metadata": {},
   "outputs": [],
   "source": [
    "# CHANGE HERE, CHANGE INFO FILE NAME AND CHANGE INDEX IN E HULL FUNCTION\n",
    "\n",
    "phase = \"Phase 2 2.0\""
   ]
  },
  {
   "cell_type": "code",
   "execution_count": null,
   "id": "dd27b50f-5a0a-4436-b99d-2ffa13b2931f",
   "metadata": {},
   "outputs": [],
   "source": [
    "import os\n",
    "\n",
    "folder_path = f\"{phase}\"  # CHANGE DIRECTORY\n",
    "\n",
    "file_list = [f for f in os.listdir(folder_path) if os.path.isfile(os.path.join(folder_path, f))]\n",
    "len(file_list)\n"
   ]
  },
  {
   "cell_type": "code",
   "execution_count": null,
   "id": "a86e9e39-63f9-4513-bba1-adbebc114f35",
   "metadata": {},
   "outputs": [],
   "source": [
    "file_list_2 = [f for f in os.listdir(\"Phase 3 2.0\") if os.path.isfile(os.path.join(\"Phase 3 2.0\", f))]\n",
    "print(len(file_list_2))"
   ]
  },
  {
   "cell_type": "code",
   "execution_count": null,
   "id": "6426b717-48e8-409b-b27e-ac98d5d37a66",
   "metadata": {},
   "outputs": [],
   "source": [
    "phase_info = []\n",
    "with open('Phase 2 2.0 4072.csv', mode='r', newline='') as file:    # CHANGE IMPORT FILE HERE\n",
    "    reader = csv.reader(file)\n",
    "    for row in reader: \n",
    "        phase_info.append(row)  # Convert each value\n",
    "\n",
    "print(len(phase_info))"
   ]
  },
  {
   "cell_type": "code",
   "execution_count": null,
   "id": "897234eb-83a4-41d3-acd9-10bddbdd941f",
   "metadata": {},
   "outputs": [],
   "source": [
    "phase_info[0]"
   ]
  },
  {
   "cell_type": "code",
   "execution_count": null,
   "id": "b093d054-f0ea-4698-af0a-2859d76972e1",
   "metadata": {},
   "outputs": [],
   "source": [
    "phase_full_info = []\n",
    "for c,i in enumerate(phase_info[1:]):\n",
    "    phase_full_info.append([c+5482,i[:3], i[3:6], i[9], i[10], i[11],(float(i[9])+float(i[11]))/(np.sqrt(2)*(float(i[10])+float(i[11]))),float(i[10])/float(i[11])])\n",
    "\n",
    "print(len(phase_full_info))\n",
    "print(phase_full_info[0])"
   ]
  },
  {
   "cell_type": "code",
   "execution_count": null,
   "id": "375762ec-4842-4a4f-8733-61754b06d801",
   "metadata": {},
   "outputs": [],
   "source": [
    "def energy_above_hull_3(file_list,thermo_docs):\n",
    "    \n",
    "    start = time.process_time()\n",
    "    start_2 = time.time()\n",
    "    count = 0\n",
    "    fail = []\n",
    "    f_count = 0\n",
    "    fail_count = 0\n",
    "    result_list = []\n",
    "    \n",
    "    for c,i in enumerate(file_list):\n",
    "        try:\n",
    "            count += 1\n",
    "            atoms = read(f\"{phase}/{i}\")     # CHANGE TO APPROPRATE FOLDER NAME\n",
    "            compound_symbol = atoms.symbols\n",
    "            individual_symbol = atoms.get_chemical_symbols()\n",
    "            free_energy = atoms.get_potential_energy()\n",
    "    \n",
    "            # Energy above hull data\n",
    "            \n",
    "            chemsys = {f\"{individual_symbol[0]}\",f\"{individual_symbol[2]}\",f\"{individual_symbol[3]}\"}\n",
    "            \n",
    "            entries = []\n",
    "            for doc in thermo_docs:\n",
    "                elements = {e.name for e in doc[0].elements}\n",
    "                if elements.issubset(chemsys):\n",
    "                    entry = PDEntry(\n",
    "                        doc[0],\n",
    "                        doc[1] * doc[0].num_atoms\n",
    "                        )\n",
    "                    entries.append(entry)\n",
    "            #print(entries)\n",
    "    \n",
    "            pd = PhaseDiagram(entries)\n",
    "    \n",
    "            entry = ComputedEntry(\n",
    "                f\"{compound_symbol}\",\n",
    "                free_energy,\n",
    "                parameters={\"run_type\": \"GGA+U\"}\n",
    "                )\n",
    "            \n",
    "            corrected_entry = mpc.process_entry(entry)\n",
    "            #print(corrected_entry)\n",
    "            a = pd.get_e_above_hull(corrected_entry)\n",
    "            #print(a)\n",
    "            result_list.append((phase_full_info[c],i,a))\n",
    "        except ValueError as e:\n",
    "            f_count += 1\n",
    "            #print(i)\n",
    "            #print(e)\n",
    "            #break\n",
    "        except Exception as e:\n",
    "            fail_count += 1\n",
    "\n",
    "            \n",
    "\n",
    "    print(\"F errors: \",f_count)\n",
    "    print(\"Other errors:\", fail_count)\n",
    "    print(\"Successes:\", len(result_list))\n",
    "    print(\"Total compounds\", count)\n",
    "    end = time.process_time()\n",
    "    end_2 = time.time()\n",
    "    \n",
    "    print(f\"CPU Time: {end - start} seconds\")\n",
    "    print(f\"Elapsed Time: {end_2 - start_2} seconds\")\n",
    "        \n",
    "    return result_list"
   ]
  },
  {
   "cell_type": "code",
   "execution_count": null,
   "id": "80699c12-55fe-462c-b7a9-fc287eda56e2",
   "metadata": {},
   "outputs": [],
   "source": [
    "from tqdm import tqdm\n",
    "import time  # Ensure this is imported if not already\n",
    "\n",
    "def energy_above_hull_4(file_list, thermo_docs):\n",
    "    start = time.process_time()\n",
    "    start_2 = time.time()\n",
    "    \n",
    "    count = 0\n",
    "    f_count = 0\n",
    "    fail_count = 0\n",
    "    result_list = []\n",
    "    \n",
    "    # Using tqdm to track progress\n",
    "    for c, i in tqdm(enumerate(file_list), total=len(file_list), desc=\"Processing files\"):\n",
    "        try:\n",
    "            count += 1\n",
    "            atoms = read(f\"{phase}/{i}\")  # CHANGE TO APPROPRIATE FOLDER NAME\n",
    "            compound_symbol = atoms.symbols\n",
    "            individual_symbol = atoms.get_chemical_symbols()\n",
    "            free_energy = atoms.get_potential_energy()\n",
    "    \n",
    "            # Energy above hull data\n",
    "            chemsys = {individual_symbol[0], individual_symbol[2], individual_symbol[3]}\n",
    "            \n",
    "            entries = []\n",
    "            for doc in thermo_docs:\n",
    "                elements = {e.name for e in doc[0].elements}\n",
    "                if elements.issubset(chemsys):\n",
    "                    entry = PDEntry(\n",
    "                        doc[0],\n",
    "                        doc[1] * doc[0].num_atoms\n",
    "                    )\n",
    "                    entries.append(entry)\n",
    "    \n",
    "            pd = PhaseDiagram(entries)\n",
    "    \n",
    "            entry = ComputedEntry(\n",
    "                f\"{compound_symbol}\",\n",
    "                free_energy,\n",
    "                parameters={\"run_type\": \"GGA+U\"}\n",
    "            )\n",
    "            \n",
    "            corrected_entry = mpc.process_entry(entry)\n",
    "            a = pd.get_e_above_hull(corrected_entry)\n",
    "            result_list.append((phase_full_info[c], i, a))\n",
    "        \n",
    "        except ValueError:\n",
    "            f_count += 1\n",
    "        except Exception as e:\n",
    "            fail_count += 1\n",
    "            print(f\"Error in file: {i}, Exception: {e}\")\n",
    "            break  # You may want to remove break if you want to continue processing other files\n",
    "\n",
    "    print(\"\\nSummary:\")\n",
    "    print(f\"F errors: {f_count}\")\n",
    "    print(f\"Other errors: {fail_count}\")\n",
    "    print(f\"Successes: {len(result_list)}\")\n",
    "    print(f\"Total compounds processed: {count}\")\n",
    "    \n",
    "    end = time.process_time()\n",
    "    end_2 = time.time()\n",
    "    \n",
    "    print(f\"CPU Time: {end - start:.2f} seconds\")\n",
    "    print(f\"Elapsed Time: {end_2 - start_2:.2f} seconds\")\n",
    "    \n",
    "    return result_list\n"
   ]
  },
  {
   "cell_type": "code",
   "execution_count": null,
   "id": "ef1a1804-50a2-4549-9809-3ecdf27e6f70",
   "metadata": {
    "scrolled": true
   },
   "outputs": [],
   "source": [
    "result = energy_above_hull_4(file_list[:],thermo_docs)"
   ]
  },
  {
   "cell_type": "code",
   "execution_count": null,
   "id": "5c3a3916-1f2b-483e-be90-42ad6a6d41c2",
   "metadata": {},
   "outputs": [],
   "source": [
    "def flatten_once(nested_list):\n",
    "    flattened = []\n",
    "    for item in nested_list:\n",
    "        if isinstance(item, list):\n",
    "            flattened.extend(item)  # Unpack one level\n",
    "        else:\n",
    "            flattened.append(item)  # Keep non-list items\n",
    "    return flattened\n",
    "\n",
    "\n"
   ]
  },
  {
   "cell_type": "code",
   "execution_count": null,
   "id": "590e8b07-96bd-4451-925d-8c78e783b9f4",
   "metadata": {},
   "outputs": [],
   "source": [
    "flat_list = []\n",
    "for i in result:\n",
    "    flat_list.append(flatten_once(i))\n"
   ]
  },
  {
   "cell_type": "code",
   "execution_count": null,
   "id": "ee8d316b-cd77-48db-a94e-895ed139619e",
   "metadata": {},
   "outputs": [],
   "source": [
    "# COMPOUNDS WITH AN ENERGY ABOVE HULL OF LESS THAN 0.05 eV\n",
    "metastable_phase = []\n",
    "for i in flat_list:\n",
    "    if i[-1] <= 0.05:\n",
    "        metastable_phase.append(i)\n",
    "\n",
    "print(len(metastable_phase))\n",
    "\n"
   ]
  },
  {
   "cell_type": "code",
   "execution_count": null,
   "id": "375a6a5d-c387-4e6b-9905-a912e92287e0",
   "metadata": {},
   "outputs": [],
   "source": [
    "file_path = f'{phase} metastable compounds v2.csv'  # CHANGE FILE NAME\n",
    "\n",
    "# Writing to CSV\n",
    "with open(file_path, mode='w', newline='') as file:\n",
    "    writer = csv.writer(file)\n",
    "\n",
    "    # Write the header row\n",
    "    writer.writerow([\"Index\",\"Element Combination\", \"Oxidation States\",\"Radius of A\",\"Radius of B\",\"Radius of C\",\"Tolerance Factor\",\n",
    "                    \"Octahedral factor\",\"File name\",\"Energy above hull\"])   \n",
    "    # Write each row (tuple in this case) to the CSV\n",
    "    for row in metastable_phase:   \n",
    "        writer.writerow(row)\n",
    "\n",
    "print(f\"Data saved to {file_path}\")\n",
    "\n"
   ]
  },
  {
   "cell_type": "code",
   "execution_count": null,
   "id": "1c852b2b-9f63-4b32-97b5-4e753f5e1eb1",
   "metadata": {
    "scrolled": true
   },
   "outputs": [],
   "source": [
    "file_path = f\"{phase} full result v2.csv\"  # CHANGE FILE NAME\n",
    "\n",
    "# Writing to CSV\n",
    "with open(file_path, mode='w', newline='') as file:\n",
    "    writer = csv.writer(file)\n",
    "\n",
    "    # Write the header row\n",
    "    writer.writerow([\"Index\",\"Element Combination\", \"Oxidation States\",\"Radius of A\",\"Radius of B\",\"Radius of C\",\"Tolerance Factor\",\n",
    "                    \"Octahedral factor\",\"File name\",\"Energy above hull\"])   \n",
    "    # Write each row (tuple in this case) to the CSV\n",
    "    for row in flat_list:   \n",
    "        writer.writerow(row)\n",
    "\n",
    "print(f\"Data saved to {file_path}\")\n",
    "\n"
   ]
  }
 ],
 "metadata": {
  "kernelspec": {
   "display_name": "Python 3 (ipykernel)",
   "language": "python",
   "name": "python3"
  },
  "language_info": {
   "codemirror_mode": {
    "name": "ipython",
    "version": 3
   },
   "file_extension": ".py",
   "mimetype": "text/x-python",
   "name": "python",
   "nbconvert_exporter": "python",
   "pygments_lexer": "ipython3",
   "version": "3.11.11"
  }
 },
 "nbformat": 4,
 "nbformat_minor": 5
}
