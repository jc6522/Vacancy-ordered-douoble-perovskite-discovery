{
 "cells": [
  {
   "cell_type": "code",
   "execution_count": 255,
   "id": "e1c86961-f1bc-484d-b295-d4f31dbf8b9b",
   "metadata": {},
   "outputs": [],
   "source": [
    "# IMPORTS ALL THE REQUIRED MODULES\n",
    "\n",
    "from pymatgen.entries.compatibility import MaterialsProject2020Compatibility\n",
    "\n",
    "mpc = MaterialsProject2020Compatibility(check_potcar=False)\n",
    "\n",
    "from mp_api.client import MPRester\n",
    "from emmet.core.thermo import ThermoType\n",
    "import pymatgen\n",
    "import csv\n",
    "\n",
    "mpr = MPRester(\"PGh5dJz2L9dILgfgixXM8TH0cK14ri5m\")  # NEED TO SET API KEY\n",
    "\n",
    "from pymatgen.analysis.phase_diagram import PDEntry, PhaseDiagram\n",
    "from pymatgen.entries.computed_entries import ComputedEntry\n",
    "\n",
    "from ase import Atoms\n",
    "from ase.io import read\n",
    "\n",
    "import numpy as np\n",
    "import time"
   ]
  },
  {
   "cell_type": "code",
   "execution_count": 256,
   "id": "19c92a0f-16e0-4eea-9518-387bbfbebc9a",
   "metadata": {},
   "outputs": [],
   "source": [
    "# IMPORTS THE REQUIRED THERMO DOCS FOR CONSTRUCTING THE HULL\n",
    "\n",
    "thermo_docs = []\n",
    "with open('thermo docs.csv', mode='r', newline='') as file:    # CHANGE IMPORT FILE HERE\n",
    "    reader = csv.reader(file)\n",
    "    for row in reader: \n",
    "        thermo_docs.append(row)  # Convert each value\n"
   ]
  },
  {
   "cell_type": "code",
   "execution_count": 257,
   "id": "ad125693-7e46-46be-8b06-c3744acfdeb0",
   "metadata": {},
   "outputs": [],
   "source": [
    "# CHANGE THE DATA TYPE OF THE IMPORTED DATA\n",
    "\n",
    "for i in thermo_docs:\n",
    "    i[0] = pymatgen.core.composition.Composition(i[0])\n",
    "    i[1] = float(i[1])\n"
   ]
  },
  {
   "cell_type": "code",
   "execution_count": 258,
   "id": "344c5a95-8d23-452d-8c0c-809a455bdf07",
   "metadata": {},
   "outputs": [
    {
     "name": "stdout",
     "output_type": "stream",
     "text": [
      "<class 'float'>\n",
      "<class 'pymatgen.core.composition.Composition'>\n",
      "39014\n"
     ]
    }
   ],
   "source": [
    "# CHECK THAT THE DATA TYPE HAS BEEN MODIFIED SUCCESSFULLY\n",
    "\n",
    "print(type(thermo_docs[2][1]))\n",
    "print(type(thermo_docs[2][0]))\n",
    "print(len(thermo_docs))"
   ]
  },
  {
   "cell_type": "code",
   "execution_count": 282,
   "id": "057bba6e-09c5-4552-8a6c-c669d99e3fd4",
   "metadata": {},
   "outputs": [],
   "source": [
    "# CHANGE HERE, CHANGE INFO FILE NAME AND CHANGE INDEX IN E HULL FUNCTION\n",
    "\n",
    "phase = \"Phase 2 2.0\""
   ]
  },
  {
   "cell_type": "code",
   "execution_count": 283,
   "id": "dd27b50f-5a0a-4436-b99d-2ffa13b2931f",
   "metadata": {},
   "outputs": [
    {
     "data": {
      "text/plain": [
       "4072"
      ]
     },
     "execution_count": 283,
     "metadata": {},
     "output_type": "execute_result"
    }
   ],
   "source": [
    "import os\n",
    "\n",
    "folder_path = f\"{phase}\"  # CHANGE DIRECTORY\n",
    "\n",
    "file_list = [f for f in os.listdir(folder_path) if os.path.isfile(os.path.join(folder_path, f))]\n",
    "len(file_list)\n"
   ]
  },
  {
   "cell_type": "code",
   "execution_count": 220,
   "id": "a86e9e39-63f9-4513-bba1-adbebc114f35",
   "metadata": {},
   "outputs": [
    {
     "name": "stdout",
     "output_type": "stream",
     "text": [
      "3858\n"
     ]
    }
   ],
   "source": [
    "file_list_2 = [f for f in os.listdir(\"Phase 3 2.0\") if os.path.isfile(os.path.join(\"Phase 3 2.0\", f))]\n",
    "print(len(file_list_2))"
   ]
  },
  {
   "cell_type": "code",
   "execution_count": 191,
   "id": "eedc5e8b-8b87-4a7a-b281-046bafcdc1ea",
   "metadata": {},
   "outputs": [
    {
     "name": "stdout",
     "output_type": "stream",
     "text": [
      "0\n"
     ]
    }
   ],
   "source": [
    "count = 0\n",
    "\n",
    "for i in file_list_2:\n",
    "    if i in file_list:\n",
    "        count =+ 1\n",
    "\n",
    "print(count)"
   ]
  },
  {
   "cell_type": "code",
   "execution_count": 261,
   "id": "6426b717-48e8-409b-b27e-ac98d5d37a66",
   "metadata": {},
   "outputs": [
    {
     "name": "stdout",
     "output_type": "stream",
     "text": [
      "4073\n"
     ]
    }
   ],
   "source": [
    "phase_info = []\n",
    "with open('Phase 2 2.0 4072.csv', mode='r', newline='') as file:    # CHANGE IMPORT FILE HERE\n",
    "    reader = csv.reader(file)\n",
    "    for row in reader: \n",
    "        phase_info.append(row)  # Convert each value\n",
    "\n",
    "print(len(phase_info))"
   ]
  },
  {
   "cell_type": "code",
   "execution_count": 262,
   "id": "897234eb-83a4-41d3-acd9-10bddbdd941f",
   "metadata": {},
   "outputs": [
    {
     "data": {
      "text/plain": [
       "['Element Combination',\n",
       " 'Oxidation States',\n",
       " 'Stoichiometry',\n",
       " 'Tolerance Factor',\n",
       " 'Octahedral factor']"
      ]
     },
     "execution_count": 262,
     "metadata": {},
     "output_type": "execute_result"
    }
   ],
   "source": [
    "phase_info[0]"
   ]
  },
  {
   "cell_type": "code",
   "execution_count": 263,
   "id": "b093d054-f0ea-4698-af0a-2859d76972e1",
   "metadata": {},
   "outputs": [
    {
     "name": "stdout",
     "output_type": "stream",
     "text": [
      "4072\n",
      "[5482, ['Li', 'N', 'F'], ['1', '4', '-1'], '1.1592512255137901', '0.150202241305111', '1.321058371222505', 1.1920687064959983, 0.11369841376964601]\n"
     ]
    }
   ],
   "source": [
    "phase_full_info = []\n",
    "for c,i in enumerate(phase_info[1:]):\n",
    "    phase_full_info.append([c+5482,i[:3], i[3:6], i[9], i[10], i[11],(float(i[9])+float(i[11]))/(np.sqrt(2)*(float(i[10])+float(i[11]))),float(i[10])/float(i[11])])\n",
    "\n",
    "print(len(phase_full_info))\n",
    "print(phase_full_info[0])"
   ]
  },
  {
   "cell_type": "code",
   "execution_count": 223,
   "id": "375762ec-4842-4a4f-8733-61754b06d801",
   "metadata": {},
   "outputs": [],
   "source": [
    "def energy_above_hull_3(file_list,thermo_docs):\n",
    "    \n",
    "    start = time.process_time()\n",
    "    start_2 = time.time()\n",
    "    count = 0\n",
    "    fail = []\n",
    "    f_count = 0\n",
    "    fail_count = 0\n",
    "    result_list = []\n",
    "    \n",
    "    for c,i in enumerate(file_list):\n",
    "        try:\n",
    "            count += 1\n",
    "            atoms = read(f\"{phase}/{i}\")     # CHANGE TO APPROPRATE FOLDER NAME\n",
    "            compound_symbol = atoms.symbols\n",
    "            individual_symbol = atoms.get_chemical_symbols()\n",
    "            free_energy = atoms.get_potential_energy()\n",
    "    \n",
    "            # Energy above hull data\n",
    "            \n",
    "            chemsys = {f\"{individual_symbol[0]}\",f\"{individual_symbol[2]}\",f\"{individual_symbol[3]}\"}\n",
    "            \n",
    "            entries = []\n",
    "            for doc in thermo_docs:\n",
    "                elements = {e.name for e in doc[0].elements}\n",
    "                if elements.issubset(chemsys):\n",
    "                    entry = PDEntry(\n",
    "                        doc[0],\n",
    "                        doc[1] * doc[0].num_atoms\n",
    "                        )\n",
    "                    entries.append(entry)\n",
    "            #print(entries)\n",
    "    \n",
    "            pd = PhaseDiagram(entries)\n",
    "    \n",
    "            entry = ComputedEntry(\n",
    "                f\"{compound_symbol}\",\n",
    "                free_energy,\n",
    "                parameters={\"run_type\": \"GGA+U\"}\n",
    "                )\n",
    "            \n",
    "            corrected_entry = mpc.process_entry(entry)\n",
    "            #print(corrected_entry)\n",
    "            a = pd.get_e_above_hull(corrected_entry)\n",
    "            #print(a)\n",
    "            result_list.append((phase_full_info[c],i,a))\n",
    "        except ValueError as e:\n",
    "            f_count += 1\n",
    "            #print(i)\n",
    "            #print(e)\n",
    "            #break\n",
    "        except Exception as e:\n",
    "            fail_count += 1\n",
    "\n",
    "            \n",
    "\n",
    "    print(\"F errors: \",f_count)\n",
    "    print(\"Other errors:\", fail_count)\n",
    "    print(\"Successes:\", len(result_list))\n",
    "    print(\"Total compounds\", count)\n",
    "    end = time.process_time()\n",
    "    end_2 = time.time()\n",
    "    \n",
    "    print(f\"CPU Time: {end - start} seconds\")\n",
    "    print(f\"Elapsed Time: {end_2 - start_2} seconds\")\n",
    "        \n",
    "    return result_list"
   ]
  },
  {
   "cell_type": "code",
   "execution_count": 264,
   "id": "12b1afd0-ff19-4e99-9b15-b8e4883d1104",
   "metadata": {},
   "outputs": [
    {
     "data": {
      "text/plain": [
       "['Ru2BF6_5582.xyz',\n",
       " 'Rh2BF6_5583.xyz',\n",
       " 'Pd2BF6_5584.xyz',\n",
       " 'Ag2BF6_5585.xyz',\n",
       " 'Cd2BF6_5586.xyz',\n",
       " 'In2BF6_5587.xyz',\n",
       " 'Sn2BF6_5588.xyz',\n",
       " 'Sb2BF6_5589.xyz',\n",
       " 'Ba2BF6_5590.xyz',\n",
       " 'Ta2BF6_5591.xyz']"
      ]
     },
     "execution_count": 264,
     "metadata": {},
     "output_type": "execute_result"
    }
   ],
   "source": [
    "file_list[100:110]"
   ]
  },
  {
   "cell_type": "code",
   "execution_count": 265,
   "id": "80699c12-55fe-462c-b7a9-fc287eda56e2",
   "metadata": {},
   "outputs": [],
   "source": [
    "from tqdm import tqdm\n",
    "import time  # Ensure this is imported if not already\n",
    "\n",
    "def energy_above_hull_4(file_list, thermo_docs):\n",
    "    start = time.process_time()\n",
    "    start_2 = time.time()\n",
    "    \n",
    "    count = 0\n",
    "    f_count = 0\n",
    "    fail_count = 0\n",
    "    result_list = []\n",
    "    \n",
    "    # Using tqdm to track progress\n",
    "    for c, i in tqdm(enumerate(file_list), total=len(file_list), desc=\"Processing files\"):\n",
    "        try:\n",
    "            count += 1\n",
    "            atoms = read(f\"{phase}/{i}\")  # CHANGE TO APPROPRIATE FOLDER NAME\n",
    "            compound_symbol = atoms.symbols\n",
    "            individual_symbol = atoms.get_chemical_symbols()\n",
    "            free_energy = atoms.get_potential_energy()\n",
    "    \n",
    "            # Energy above hull data\n",
    "            chemsys = {individual_symbol[0], individual_symbol[2], individual_symbol[3]}\n",
    "            \n",
    "            entries = []\n",
    "            for doc in thermo_docs:\n",
    "                elements = {e.name for e in doc[0].elements}\n",
    "                if elements.issubset(chemsys):\n",
    "                    entry = PDEntry(\n",
    "                        doc[0],\n",
    "                        doc[1] * doc[0].num_atoms\n",
    "                    )\n",
    "                    entries.append(entry)\n",
    "    \n",
    "            pd = PhaseDiagram(entries)\n",
    "    \n",
    "            entry = ComputedEntry(\n",
    "                f\"{compound_symbol}\",\n",
    "                free_energy,\n",
    "                parameters={\"run_type\": \"GGA+U\"}\n",
    "            )\n",
    "            \n",
    "            corrected_entry = mpc.process_entry(entry)\n",
    "            a = pd.get_e_above_hull(corrected_entry)\n",
    "            result_list.append((phase_full_info[c], i, a))\n",
    "        \n",
    "        except ValueError:\n",
    "            f_count += 1\n",
    "        except Exception as e:\n",
    "            fail_count += 1\n",
    "            print(f\"Error in file: {i}, Exception: {e}\")\n",
    "            break  # You may want to remove break if you want to continue processing other files\n",
    "\n",
    "    print(\"\\nSummary:\")\n",
    "    print(f\"F errors: {f_count}\")\n",
    "    print(f\"Other errors: {fail_count}\")\n",
    "    print(f\"Successes: {len(result_list)}\")\n",
    "    print(f\"Total compounds processed: {count}\")\n",
    "    \n",
    "    end = time.process_time()\n",
    "    end_2 = time.time()\n",
    "    \n",
    "    print(f\"CPU Time: {end - start:.2f} seconds\")\n",
    "    print(f\"Elapsed Time: {end_2 - start_2:.2f} seconds\")\n",
    "    \n",
    "    return result_list\n"
   ]
  },
  {
   "cell_type": "code",
   "execution_count": 266,
   "id": "ef1a1804-50a2-4549-9809-3ecdf27e6f70",
   "metadata": {
    "scrolled": true
   },
   "outputs": [
    {
     "name": "stderr",
     "output_type": "stream",
     "text": [
      "Processing files: 100%|███████████████████████████████████████████████████| 4072/4072 [03:42<00:00, 18.29it/s]"
     ]
    },
    {
     "name": "stdout",
     "output_type": "stream",
     "text": [
      "\n",
      "Summary:\n",
      "F errors: 469\n",
      "Other errors: 0\n",
      "Successes: 3603\n",
      "Total compounds processed: 4072\n",
      "CPU Time: 667.54 seconds\n",
      "Elapsed Time: 222.66 seconds\n"
     ]
    },
    {
     "name": "stderr",
     "output_type": "stream",
     "text": [
      "\n"
     ]
    }
   ],
   "source": [
    "result = energy_above_hull_4(file_list[:],thermo_docs)"
   ]
  },
  {
   "cell_type": "code",
   "execution_count": 267,
   "id": "593b6541-fb15-4ec1-8ea3-da5872981c0e",
   "metadata": {},
   "outputs": [
    {
     "name": "stdout",
     "output_type": "stream",
     "text": [
      "([5492, ['Li', 'Sb', 'Cl'], ['1', '4', '-1'], '1.1592512255137901', '0.732923478771081', '1.8061033885750502', 0.8258370099236877, 0.4058037227588233], 'Li2SbCl6_5492.xyz', 0.20328136164496557)\n"
     ]
    }
   ],
   "source": [
    "print(result[10])"
   ]
  },
  {
   "cell_type": "code",
   "execution_count": 268,
   "id": "a1195071-0615-4a4b-9538-e14ac02a3277",
   "metadata": {},
   "outputs": [
    {
     "name": "stdout",
     "output_type": "stream",
     "text": [
      "3603\n"
     ]
    }
   ],
   "source": [
    "print(len(result))"
   ]
  },
  {
   "cell_type": "code",
   "execution_count": 269,
   "id": "e462daf1-a3b9-45b0-bbcb-9261aaea5a7e",
   "metadata": {},
   "outputs": [
    {
     "data": {
      "text/plain": [
       "18.34234234234234"
      ]
     },
     "execution_count": 269,
     "metadata": {},
     "output_type": "execute_result"
    }
   ],
   "source": [
    "2794/3452\n",
    "2217/3452\n",
    "1846/118\n",
    "5481/437\n",
    "4072/542\n",
    "2916/173\n",
    "3858/223\n",
    "4072/222"
   ]
  },
  {
   "cell_type": "code",
   "execution_count": 270,
   "id": "5c3a3916-1f2b-483e-be90-42ad6a6d41c2",
   "metadata": {},
   "outputs": [],
   "source": [
    "def flatten_once(nested_list):\n",
    "    flattened = []\n",
    "    for item in nested_list:\n",
    "        if isinstance(item, list):\n",
    "            flattened.extend(item)  # Unpack one level\n",
    "        else:\n",
    "            flattened.append(item)  # Keep non-list items\n",
    "    return flattened\n",
    "\n",
    "\n"
   ]
  },
  {
   "cell_type": "code",
   "execution_count": 271,
   "id": "590e8b07-96bd-4451-925d-8c78e783b9f4",
   "metadata": {},
   "outputs": [],
   "source": [
    "flat_list = []\n",
    "for i in result:\n",
    "    flat_list.append(flatten_once(i))\n"
   ]
  },
  {
   "cell_type": "code",
   "execution_count": 272,
   "id": "af8732d8-dc67-49e0-a0ce-7ce295c0abc1",
   "metadata": {},
   "outputs": [
    {
     "name": "stdout",
     "output_type": "stream",
     "text": [
      "[5482, ['Li', 'N', 'F'], ['1', '4', '-1'], '1.1592512255137901', '0.150202241305111', '1.321058371222505', 1.1920687064959983, 0.11369841376964601, 'Li2NF6_5482.xyz', 0.1556703604188372]\n"
     ]
    }
   ],
   "source": [
    "print(flat_list[0])"
   ]
  },
  {
   "cell_type": "code",
   "execution_count": 162,
   "id": "f5ddb335-0ef1-4c18-9201-26a4303d4733",
   "metadata": {},
   "outputs": [
    {
     "data": {
      "text/plain": [
       "0.8553580009610764"
      ]
     },
     "execution_count": 162,
     "metadata": {},
     "output_type": "execute_result"
    }
   ],
   "source": [
    "# Phase 1\n",
    "2217/3452\n",
    "#692/2945\n",
    "\n",
    "# Phase 2\n",
    "2093/2945\n",
    "\n",
    "# Phase 3\n",
    "1844/2327\n",
    "\n",
    "# Phase 4\n",
    "1780/2081"
   ]
  },
  {
   "cell_type": "code",
   "execution_count": 88,
   "id": "bd5cbf33-7250-42bb-a7d9-28f6f9b3f995",
   "metadata": {},
   "outputs": [
    {
     "data": {
      "text/plain": [
       "0.8870735223450265"
      ]
     },
     "execution_count": 88,
     "metadata": {},
     "output_type": "execute_result"
    }
   ],
   "source": [
    "# Revised - with a relaxed energy requirement for hull data\n",
    "# Phase 1\n",
    "2794/3452\n",
    "# Time: 176 s\n",
    "\n",
    "# Phase 2\n",
    "2549/2945\n",
    "# Time: 148 s\n",
    "\n",
    "# Phase 3\n",
    "2071/2327\n",
    "# Time: 134 s\n",
    "\n",
    "# Phase 4\n",
    "1846/2081\n",
    "# Time: 118 s"
   ]
  },
  {
   "cell_type": "code",
   "execution_count": 273,
   "id": "8379739f-7ded-4701-9d1d-77fc6aaa8fdb",
   "metadata": {},
   "outputs": [
    {
     "data": {
      "text/plain": [
       "0.8848231827111984"
      ]
     },
     "execution_count": 273,
     "metadata": {},
     "output_type": "execute_result"
    }
   ],
   "source": [
    "# Revised 2 with updated coordination requirements\n",
    "# Phase 1\n",
    "4584/5481\n",
    "\n",
    "# Time: 437 seconds\n",
    "\n",
    "# Phase 2\n",
    "3603/4072\n",
    "\n",
    "#Phase 3\n",
    "#3406/3858\n",
    "\n",
    "# Phase 4\n",
    "#2611/2916"
   ]
  },
  {
   "cell_type": "code",
   "execution_count": 274,
   "id": "f72b06a4-2e8f-4d78-9698-6637cbf7e7ab",
   "metadata": {},
   "outputs": [
    {
     "data": {
      "text/plain": [
       "14204"
      ]
     },
     "execution_count": 274,
     "metadata": {},
     "output_type": "execute_result"
    }
   ],
   "source": [
    "# Total valid compounds\n",
    "\n",
    "4584+3603+3406+2611"
   ]
  },
  {
   "cell_type": "code",
   "execution_count": 269,
   "id": "9c4c0e56-20ab-4368-b50a-42a0b80abf48",
   "metadata": {},
   "outputs": [
    {
     "data": {
      "text/plain": [
       "2.161290322580645"
      ]
     },
     "execution_count": 269,
     "metadata": {},
     "output_type": "execute_result"
    }
   ],
   "source": [
    "67/31"
   ]
  },
  {
   "cell_type": "code",
   "execution_count": 270,
   "id": "e315ec24-e581-4ad6-87fd-33b0761673be",
   "metadata": {},
   "outputs": [
    {
     "data": {
      "text/plain": [
       "1.2415976619581102"
      ]
     },
     "execution_count": 270,
     "metadata": {},
     "output_type": "execute_result"
    }
   ],
   "source": [
    "2549/2053"
   ]
  },
  {
   "cell_type": "code",
   "execution_count": 276,
   "id": "ee8d316b-cd77-48db-a94e-895ed139619e",
   "metadata": {},
   "outputs": [
    {
     "name": "stdout",
     "output_type": "stream",
     "text": [
      "77\n"
     ]
    }
   ],
   "source": [
    "# COMPOUNDS WITH AN ENERGY ABOVE HULL OF LESS THAN 0.05 eV\n",
    "metastable_phase = []\n",
    "for i in flat_list:\n",
    "    if i[-1] <= 0.05:\n",
    "        metastable_phase.append(i)\n",
    "\n",
    "print(len(metastable_phase))\n",
    "\n",
    "\n",
    "# 131 for phase 1, 37 for phase 2, 49 for phase 3, 17 for phase 4\n",
    "# Revised version\n",
    "# 218 for phase 1, 61, 47, 17\n",
    "# Round 3: 223 , 77 Phase 3: 51, Phase 4: 21"
   ]
  },
  {
   "cell_type": "code",
   "execution_count": 279,
   "id": "0f734bf5-2b45-44a3-9f3f-0d2b0e7f99ca",
   "metadata": {},
   "outputs": [
    {
     "data": {
      "text/plain": [
       "372"
      ]
     },
     "execution_count": 279,
     "metadata": {},
     "output_type": "execute_result"
    }
   ],
   "source": [
    "223+77+51+21"
   ]
  },
  {
   "cell_type": "code",
   "execution_count": 121,
   "id": "abf4a579-4b36-4c93-a36e-bc8779783f4f",
   "metadata": {},
   "outputs": [
    {
     "data": {
      "text/plain": [
       "0.9465880836145883"
      ]
     },
     "execution_count": 121,
     "metadata": {},
     "output_type": "execute_result"
    }
   ],
   "source": [
    "metastable_phase[0][-4]"
   ]
  },
  {
   "cell_type": "code",
   "execution_count": 208,
   "id": "a442eb55-d321-4695-b03e-078df680c1a7",
   "metadata": {},
   "outputs": [],
   "source": [
    "x = []\n",
    "for i in metastable_phase:\n",
    "    x.append(i[-4])\n"
   ]
  },
  {
   "cell_type": "code",
   "execution_count": 209,
   "id": "596109a0-4963-4ab5-8dba-7c4d341a086c",
   "metadata": {},
   "outputs": [],
   "source": [
    "y = []\n",
    "for i in flat_list:\n",
    "    y.append(i[-4])\n"
   ]
  },
  {
   "cell_type": "code",
   "execution_count": null,
   "id": "c57a3e92-2b04-4454-9adb-dda5eab9f713",
   "metadata": {},
   "outputs": [],
   "source": [
    "for i in metastable_phase:\n",
    "    if i[-4]>1:\n",
    "        print(\"H\")"
   ]
  },
  {
   "cell_type": "code",
   "execution_count": 210,
   "id": "2c58187b-c12d-4c66-8850-210a14b9a418",
   "metadata": {},
   "outputs": [
    {
     "data": {
      "image/png": "[encoded data removed]",
      "text/plain": [
       "<Figure size 640x480 with 1 Axes>"
      ]
     },
     "metadata": {},
     "output_type": "display_data"
    }
   ],
   "source": [
    "# Plotting Tolerance factors of metastable compounds\n",
    "\n",
    "import seaborn as sns\n",
    "\n",
    "import seaborn as sns\n",
    "import matplotlib.pyplot as plt\n",
    "import numpy as np\n",
    "\n",
    "\n",
    "# KDE Plot with normalized y-axis\n",
    "sns.kdeplot(x, bw_adjust=0.1, fill=True, common_norm=True)  \n",
    "plt.xlabel(\"Value\")\n",
    "plt.ylabel(\"Density (Normalized)\")\n",
    "plt.title(\"Normalized KDE Plot of Data Distribution (0-1)\")\n",
    "plt.show()\n"
   ]
  },
  {
   "cell_type": "code",
   "execution_count": 211,
   "id": "b0108dae-6e94-4c86-997f-c1518b155aae",
   "metadata": {},
   "outputs": [
    {
     "data": {
      "image/png": "[encoded data removed]",
      "text/plain": [
       "<Figure size 640x480 with 1 Axes>"
      ]
     },
     "metadata": {},
     "output_type": "display_data"
    }
   ],
   "source": [
    "# Plotting Tolerance factors of all compounds\n",
    "\n",
    "import seaborn as sns\n",
    "\n",
    "sns.kdeplot(y, bw_adjust=0.1, fill=True)\n",
    "plt.xlabel(\"Value\")\n",
    "plt.ylabel(\"Density\")\n",
    "plt.title(\"KDE Plot of Data Distribution (0-1)\")\n",
    "plt.show()"
   ]
  },
  {
   "cell_type": "code",
   "execution_count": 70,
   "id": "798a8409-b29d-4d97-b71e-5789b7c84c2c",
   "metadata": {},
   "outputs": [
    {
     "data": {
      "text/plain": [
       "343"
      ]
     },
     "execution_count": 70,
     "metadata": {},
     "output_type": "execute_result"
    }
   ],
   "source": [
    "#Total number of metastable compounds\n",
    "\n",
    "218+61+47+17"
   ]
  },
  {
   "cell_type": "code",
   "execution_count": 71,
   "id": "3c1bba15-0655-4ee1-ab46-1a1094089cef",
   "metadata": {},
   "outputs": [
    {
     "data": {
      "text/plain": [
       "0.031744562702452565"
      ]
     },
     "execution_count": 71,
     "metadata": {},
     "output_type": "execute_result"
    }
   ],
   "source": [
    "343/10805"
   ]
  },
  {
   "cell_type": "code",
   "execution_count": 277,
   "id": "375a6a5d-c387-4e6b-9905-a912e92287e0",
   "metadata": {},
   "outputs": [
    {
     "name": "stdout",
     "output_type": "stream",
     "text": [
      "Data saved to Phase 2 2.0 metastable compounds v2.csv\n"
     ]
    }
   ],
   "source": [
    "file_path = f'{phase} metastable compounds v2.csv'  # CHANGE FILE NAME\n",
    "\n",
    "# Writing to CSV\n",
    "with open(file_path, mode='w', newline='') as file:\n",
    "    writer = csv.writer(file)\n",
    "\n",
    "    # Write the header row\n",
    "    writer.writerow([\"Index\",\"Element Combination\", \"Oxidation States\",\"Radius of A\",\"Radius of B\",\"Radius of C\",\"Tolerance Factor\",\n",
    "                    \"Octahedral factor\",\"File name\",\"Energy above hull\"])   \n",
    "    # Write each row (tuple in this case) to the CSV\n",
    "    for row in metastable_phase:   \n",
    "        writer.writerow(row)\n",
    "\n",
    "print(f\"Data saved to {file_path}\")\n",
    "\n"
   ]
  },
  {
   "cell_type": "code",
   "execution_count": 278,
   "id": "1c852b2b-9f63-4b32-97b5-4e753f5e1eb1",
   "metadata": {
    "scrolled": true
   },
   "outputs": [
    {
     "name": "stdout",
     "output_type": "stream",
     "text": [
      "Data saved to Phase 2 2.0 full result v2.csv\n"
     ]
    }
   ],
   "source": [
    "file_path = f\"{phase} full result v2.csv\"  # CHANGE FILE NAME\n",
    "\n",
    "# Writing to CSV\n",
    "with open(file_path, mode='w', newline='') as file:\n",
    "    writer = csv.writer(file)\n",
    "\n",
    "    # Write the header row\n",
    "    writer.writerow([\"Index\",\"Element Combination\", \"Oxidation States\",\"Radius of A\",\"Radius of B\",\"Radius of C\",\"Tolerance Factor\",\n",
    "                    \"Octahedral factor\",\"File name\",\"Energy above hull\"])   \n",
    "    # Write each row (tuple in this case) to the CSV\n",
    "    for row in flat_list:   \n",
    "        writer.writerow(row)\n",
    "\n",
    "print(f\"Data saved to {file_path}\")\n",
    "\n"
   ]
  },
  {
   "cell_type": "code",
   "execution_count": null,
   "id": "5fe8e32b-79df-4738-b14b-a327ec6a6940",
   "metadata": {},
   "outputs": [],
   "source": []
  }
 ],
 "metadata": {
  "kernelspec": {
   "display_name": "Python 3 (ipykernel)",
   "language": "python",
   "name": "python3"
  },
  "language_info": {
   "codemirror_mode": {
    "name": "ipython",
    "version": 3
   },
   "file_extension": ".py",
   "mimetype": "text/x-python",
   "name": "python",
   "nbconvert_exporter": "python",
   "pygments_lexer": "ipython3",
   "version": "3.11.11"
  }
 },
 "nbformat": 4,
 "nbformat_minor": 5
}
