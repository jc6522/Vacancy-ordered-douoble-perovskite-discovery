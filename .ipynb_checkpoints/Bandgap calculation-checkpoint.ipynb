{
 "cells": [
  {
   "cell_type": "code",
   "execution_count": null,
   "id": "1a2b3196-c6f8-4df0-944b-0b4e43079bbc",
   "metadata": {},
   "outputs": [],
   "source": [
    "from __future__ import annotations\n",
    "\n",
    "import warnings\n",
    "\n",
    "import torch\n",
    "from pymatgen.core import Lattice, Structure\n",
    "\n",
    "import matgl\n",
    "\n",
    "# To suppress warnings for clearer output\n",
    "warnings.simplefilter(\"ignore\")\n",
    "\n",
    "import time\n",
    "import csv\n",
    "from tqdm import tqdm\n",
    "import pandas as pd"
   ]
  },
  {
   "cell_type": "code",
   "execution_count": null,
   "id": "d4a2a873-bc0a-4494-8d52-a94985fef73f",
   "metadata": {},
   "outputs": [],
   "source": [
    "import os\n",
    "phase = \"Phase 4 2.0\"    # Change here\n",
    " "
   ]
  },
  {
   "cell_type": "code",
   "execution_count": null,
   "id": "abf7c42f-f4df-489e-a7ac-e58aa48c7d3f",
   "metadata": {},
   "outputs": [],
   "source": [
    "folder_path = f\"{phase}\"  # CHANGE DIRECTORY\n",
    "\n",
    "file_list = [f for f in os.listdir(folder_path) if os.path.isfile(os.path.join(folder_path, f))]\n",
    "len(file_list)\n"
   ]
  },
  {
   "cell_type": "code",
   "execution_count": null,
   "id": "62d25788-3c3d-43f9-834c-a8da60bfbdcd",
   "metadata": {},
   "outputs": [],
   "source": [
    "file_list[0][:-4]"
   ]
  },
  {
   "cell_type": "code",
   "execution_count": null,
   "id": "27dbf520-5348-454a-87ff-5251ee0b45c2",
   "metadata": {},
   "outputs": [],
   "source": [
    "start = time.process_time()\n",
    "start_2 = time.time()\n",
    "\n",
    "folder_name = f\"{phase} cif\"          # CHANGE NAME OF THE FOLDER\n",
    "# Ensure the results directory exists\n",
    "os.makedirs(f\"{folder_name}\", exist_ok=True)\n",
    "\n",
    "model = matgl.load_model(\"MEGNet-MP-2019.4.1-BandGap-mfi\")\n",
    "bandgap_output = []\n",
    "\n",
    "for c,j in tqdm(enumerate(file_list), total = len(file_list), desc = \"Processing files\"):\n",
    "    bandgap_list = []\n",
    "    atoms = io.read(f\"{phase}/{j}\")\n",
    "    io.write(f\"{folder_name}/{j[:-4]}.cif\", atoms)\n",
    "    struct_2 = Structure.from_file(f\"{folder_name}/{j[:-4]}.cif\")\n",
    "\n",
    "    for i, method in ((0, \"PBE\"), (1, \"GLLB-SC\"), (2, \"HSE\"), (3, \"SCAN\")):\n",
    "        graph_attrs = torch.tensor([i])\n",
    "        bandgap = model.predict_structure(structure=struct_2, state_attr=graph_attrs)\n",
    "        #print(f\"The predicted {method} band gap for CsCl is {float(bandgap):.3f} eV.\")\n",
    "        bandgap_list.append(bandgap)\n",
    "\n",
    "    bandgap_output.append((j,bandgap_list))\n",
    "    \n",
    "end = time.process_time()\n",
    "end_2 = time.time()\n",
    "\n",
    "print(f\"CPU Time: {end - start} seconds\")\n",
    "print(f\"Elapsed Time: {end_2 - start_2} seconds\")\n",
    "    "
   ]
  },
  {
   "cell_type": "code",
   "execution_count": null,
   "id": "9a1118dd-34fd-4057-ac61-970c36b4d6d2",
   "metadata": {},
   "outputs": [],
   "source": [
    "def flatten_once(nested_list):\n",
    "    flattened = []\n",
    "    for item in nested_list:\n",
    "        if isinstance(item, list):\n",
    "            flattened.extend(item)  # Unpack one level\n",
    "        else:\n",
    "            flattened.append(item)  # Keep non-list items\n",
    "    return flattened\n",
    "\n",
    "flat_list = []\n",
    "for i in bandgap_output:\n",
    "    flat_list.append(flatten_once(i))\n",
    "\n",
    "\n"
   ]
  },
  {
   "cell_type": "code",
   "execution_count": null,
   "id": "917d7c1f-7404-4c28-883e-b8eaa04a94fa",
   "metadata": {},
   "outputs": [],
   "source": [
    "# Load CSV file (replace 'data.csv' with your actual filename)\n",
    "df_csv = pd.read_csv(f'{phase} full result v2.csv')  "
   ]
  },
  {
   "cell_type": "code",
   "execution_count": null,
   "id": "8b605a2d-f24c-4e67-853a-13db3ba9dd1a",
   "metadata": {},
   "outputs": [],
   "source": [
    "df_list = pd.DataFrame(flat_list,columns=[\"File name\", \"PBE\", \"GLLB-SC\", \"HSE\", \"SCAN\"])"
   ]
  },
  {
   "cell_type": "code",
   "execution_count": null,
   "id": "95a3fe97-7669-4df5-9efd-31cb18e6151d",
   "metadata": {},
   "outputs": [],
   "source": [
    "# Merge both datasets on \"ID\"\n",
    "merged_df = pd.merge(df_csv, df_list, on=\"File name\", how=\"left\")  # Use 'outer' to include all entries\n"
   ]
  },
  {
   "cell_type": "code",
   "execution_count": null,
   "id": "1e88fd2c-53db-4a6c-8a97-1288181d57f4",
   "metadata": {},
   "outputs": [],
   "source": [
    "merged_df.to_csv(f'{phase} full list bandgap.csv', index = False)"
   ]
  },
  {
   "cell_type": "code",
   "execution_count": null,
   "id": "2129ad3c-a005-4758-98a2-f875c30550d1",
   "metadata": {},
   "outputs": [],
   "source": [
    "file_path = f'{phase} flat list bg.csv'  # CHANGE FILE NAME\n",
    "\n",
    "# Writing to CSV\n",
    "with open(file_path, mode='w', newline='') as file:\n",
    "    writer = csv.writer(file)\n",
    "\n",
    "    # Write the header row\n",
    "    writer.writerow([\"File name\", \"PBE\", \"GLLB-SC\", \"HSE\", \"SCAN\"])   \n",
    "    # Write each row (tuple in this case) to the CSV\n",
    "    for row in flat_list:   \n",
    "        writer.writerow(row)\n",
    "\n",
    "print(f\"Data saved to {file_path}\")\n",
    "\n"
   ]
  }
 ],
 "metadata": {
  "kernelspec": {
   "display_name": "Python 3 (ipykernel)",
   "language": "python",
   "name": "python3"
  },
  "language_info": {
   "codemirror_mode": {
    "name": "ipython",
    "version": 3
   },
   "file_extension": ".py",
   "mimetype": "text/x-python",
   "name": "python",
   "nbconvert_exporter": "python",
   "pygments_lexer": "ipython3",
   "version": "3.11.11"
  }
 },
 "nbformat": 4,
 "nbformat_minor": 5
}
